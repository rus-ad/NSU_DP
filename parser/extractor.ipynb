{
 "cells": [
  {
   "cell_type": "code",
   "execution_count": 1,
   "metadata": {},
   "outputs": [],
   "source": [
    "import librosa\n",
    "import os\n",
    "from pydub import AudioSegment\n",
    "from tqdm.notebook import tqdm\n",
    "import pandas as pd\n",
    "import sklearn"
   ]
  },
  {
   "cell_type": "code",
   "execution_count": 2,
   "metadata": {},
   "outputs": [],
   "source": [
    "def normalize(x, axis=0):\n",
    "    return sklearn.preprocessing.minmax_scale(x, axis=axis)"
   ]
  },
  {
   "cell_type": "code",
   "execution_count": null,
   "metadata": {},
   "outputs": [
    {
     "data": {
      "application/vnd.jupyter.widget-view+json": {
       "model_id": "0454fe080271417385b7315562c8e5ea",
       "version_major": 2,
       "version_minor": 0
      },
      "text/plain": [
       "HBox(children=(HTML(value=''), FloatProgress(value=0.0, max=201.0), HTML(value='')))"
      ]
     },
     "metadata": {},
     "output_type": "display_data"
    }
   ],
   "source": [
    "features = {\n",
    "    'name': [], \n",
    "    'chroma_stft': [], \n",
    "    'spec_cent': [], \n",
    "    'spec_bw': [], \n",
    "    'rolloff': [], \n",
    "    'zcr': [], \n",
    "    'mfcc': [], \n",
    "    'rmse': [], \n",
    "\n",
    "}\n",
    "base_path = 'data_wav/'\n",
    "for foldef_name in tqdm(os.listdir(base_path)):\n",
    "    filenames = os.listdir(base_path + foldef_name)\n",
    "    for filename in filenames[:10]:\n",
    "        y, sr = librosa.load(base_path + foldef_name + '/' + filename, mono=True, duration=30)\n",
    "        features['chroma_stft'].append(librosa.feature.chroma_stft(y=y, sr=sr))\n",
    "        features['spec_cent'].append(librosa.feature.spectral_centroid(y=y, sr=sr))\n",
    "        features['spec_bw'].append(librosa.feature.spectral_bandwidth(y=y, sr=sr))\n",
    "        features['rolloff'].append(librosa.feature.spectral_rolloff(y=y, sr=sr))\n",
    "        features['zcr'].append(librosa.feature.zero_crossing_rate(y))\n",
    "        features['mfcc'].append(librosa.feature.mfcc(y=y, sr=sr))\n",
    "        features['rmse'].append(librosa.feature.rms(y=y))\n",
    "        features['name'].append(foldef_name)"
   ]
  },
  {
   "cell_type": "code",
   "execution_count": null,
   "metadata": {},
   "outputs": [],
   "source": [
    "df = pd.DataFrame(features)"
   ]
  },
  {
   "cell_type": "code",
   "execution_count": null,
   "metadata": {},
   "outputs": [],
   "source": [
    "agg = df.groupby('name').mean()"
   ]
  },
  {
   "cell_type": "code",
   "execution_count": null,
   "metadata": {},
   "outputs": [],
   "source": []
  },
  {
   "cell_type": "code",
   "execution_count": null,
   "metadata": {},
   "outputs": [],
   "source": []
  },
  {
   "cell_type": "code",
   "execution_count": null,
   "metadata": {},
   "outputs": [],
   "source": []
  }
 ],
 "metadata": {
  "kernelspec": {
   "display_name": "Python 3",
   "language": "python",
   "name": "python3"
  },
  "language_info": {
   "codemirror_mode": {
    "name": "ipython",
    "version": 3
   },
   "file_extension": ".py",
   "mimetype": "text/x-python",
   "name": "python",
   "nbconvert_exporter": "python",
   "pygments_lexer": "ipython3",
   "version": "3.8.5"
  }
 },
 "nbformat": 4,
 "nbformat_minor": 4
}
