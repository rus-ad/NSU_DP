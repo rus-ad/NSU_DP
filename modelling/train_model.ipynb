{
 "cells": [
  {
   "cell_type": "markdown",
   "metadata": {
    "colab_type": "text",
    "id": "cNnM2w-HCeb1"
   },
   "source": [
    "# Music genre classification notebook"
   ]
  },
  {
   "cell_type": "markdown",
   "metadata": {
    "colab_type": "text",
    "id": "2l3sppZMCydR"
   },
   "source": [
    "## Importing Libraries"
   ]
  },
  {
   "cell_type": "code",
   "execution_count": 2,
   "metadata": {
    "colab": {},
    "colab_type": "code",
    "id": "Gt3fyg6dCNvX"
   },
   "outputs": [],
   "source": [
    "# feature extractoring and preprocessing data\n",
    "import librosa\n",
    "import pandas as pd\n",
    "import numpy as np\n",
    "import matplotlib.pyplot as plt\n",
    "%matplotlib inline\n",
    "import os\n",
    "from PIL import Image\n",
    "import pathlib\n",
    "import csv\n",
    "\n",
    "# Preprocessing\n",
    "from sklearn.model_selection import train_test_split\n",
    "from sklearn.preprocessing import LabelEncoder, StandardScaler\n",
    "\n",
    "#Keras\n",
    "import keras"
   ]
  },
  {
   "cell_type": "markdown",
   "metadata": {
    "colab_type": "text",
    "id": "DPe_ebYuDqr5"
   },
   "source": [
    "## Extracting music and features\n",
    "\n",
    "### Dataset\n",
    "\n",
    "We use [GTZAN genre collection](http://marsyasweb.appspot.com/download/data_sets/) dataset for classification. \n",
    "<br>\n",
    "<br>\n",
    "The dataset consists of 10 genres i.e\n",
    " * Blues\n",
    " * Classical\n",
    " * Country\n",
    " * Disco\n",
    " * Hiphop\n",
    " * Jazz\n",
    " * Metal\n",
    " * Pop\n",
    " * Reggae\n",
    " * Rock\n",
    " \n",
    "Each genre contains 100 songs. Total dataset: 1000 songs"
   ]
  },
  {
   "cell_type": "markdown",
   "metadata": {
    "colab_type": "text",
    "id": "AfBSVfRCD3PE"
   },
   "source": [
    "## Extracting the Spectrogram for every Audio"
   ]
  },
  {
   "cell_type": "code",
   "execution_count": 6,
   "metadata": {
    "colab": {},
    "colab_type": "code",
    "id": "BHh3pTEVDdrT"
   },
   "outputs": [
    {
     "data": {
      "text/plain": [
       "<Figure size 720x720 with 0 Axes>"
      ]
     },
     "metadata": {},
     "output_type": "display_data"
    }
   ],
   "source": [
    "cmap = plt.get_cmap('inferno')\n",
    "path = 'data/archive/genres/'\n",
    "\n",
    "plt.figure(figsize=(10,10))\n",
    "genres = 'blues classical country disco hiphop jazz metal pop reggae rock'.split()\n",
    "for g in genres:\n",
    "    pathlib.Path(f'img_data/{g}').mkdir(parents=True, exist_ok=True)     \n",
    "    for filename in os.listdir(f'{path}{g}'):\n",
    "        songname = f'{path}{g}/{filename}'\n",
    "        y, sr = librosa.load(songname, mono=True, duration=5)\n",
    "        plt.specgram(\n",
    "            y, NFFT=2048, Fs=2, Fc=0, noverlap=128, cmap=cmap, sides='default', mode='default', scale='dB');\n",
    "        plt.axis('off');\n",
    "        plt.savefig(f'img_data/{g}/{filename[:-3].replace(\".\", \"\")}.png')\n",
    "        plt.clf()"
   ]
  },
  {
   "cell_type": "markdown",
   "metadata": {
    "colab_type": "text",
    "id": "piwUwgP5Eef9"
   },
   "source": [
    "## Extracting features from Spectrogram\n",
    "\n",
    "\n",
    "We will extract\n",
    "\n",
    "* Mel-frequency cepstral coefficients (MFCC)(20 in number)\n",
    "* Spectral Centroid,\n",
    "* Zero Crossing Rate\n",
    "* Chroma Frequencies\n",
    "* Spectral Roll-off."
   ]
  },
  {
   "cell_type": "code",
   "execution_count": 7,
   "metadata": {
    "colab": {},
    "colab_type": "code",
    "id": "__g8tX8pDeIL"
   },
   "outputs": [],
   "source": [
    "header = 'filename chroma_stft rmse spectral_centroid spectral_bandwidth rolloff zero_crossing_rate'\n",
    "for i in range(1, 21):\n",
    "    header += f' mfcc{i}'\n",
    "header += ' label'\n",
    "header = header.split()"
   ]
  },
  {
   "cell_type": "markdown",
   "metadata": {
    "colab_type": "text",
    "id": "TBlT448pEqR9"
   },
   "source": [
    "## Writing data to csv file\n",
    "\n",
    "We write the data to a csv file "
   ]
  },
  {
   "cell_type": "code",
   "execution_count": 11,
   "metadata": {
    "colab": {},
    "colab_type": "code",
    "id": "ZsSQmB0PE3Iu"
   },
   "outputs": [],
   "source": [
    "file = open('data.csv', 'w', newline='')\n",
    "with file:\n",
    "    writer = csv.writer(file)\n",
    "    writer.writerow(header)\n",
    "genres = 'blues classical country disco hiphop jazz metal pop reggae rock'.split()\n",
    "for g in genres:\n",
    "    for filename in os.listdir(f'{path}{g}'):\n",
    "        songname = f'{path}{g}/{filename}'\n",
    "        y, sr = librosa.load(songname, mono=True, duration=30)\n",
    "        chroma_stft = librosa.feature.chroma_stft(y=y, sr=sr)\n",
    "        spec_cent = librosa.feature.spectral_centroid(y=y, sr=sr)\n",
    "        spec_bw = librosa.feature.spectral_bandwidth(y=y, sr=sr)\n",
    "        rolloff = librosa.feature.spectral_rolloff(y=y, sr=sr)\n",
    "        zcr = librosa.feature.zero_crossing_rate(y)\n",
    "        mfcc = librosa.feature.mfcc(y=y, sr=sr)\n",
    "        rmse = librosa.feature.rms(y=y)\n",
    "        to_append = f'{filename} {np.mean(chroma_stft)} {np.mean(rmse)} {np.mean(spec_cent)} {np.mean(spec_bw)} {np.mean(rolloff)} {np.mean(zcr)}'    \n",
    "        for e in mfcc:\n",
    "            to_append += f' {np.mean(e)}'\n",
    "        to_append += f' {g}'\n",
    "        file = open('data.csv', 'a', newline='')\n",
    "        with file:\n",
    "            writer = csv.writer(file)\n",
    "            writer.writerow(to_append.split())"
   ]
  },
  {
   "cell_type": "markdown",
   "metadata": {
    "colab_type": "text",
    "id": "fgeCZSKQEp1A"
   },
   "source": [
    "# Analysing the Data in Pandas"
   ]
  },
  {
   "cell_type": "code",
   "execution_count": 12,
   "metadata": {
    "colab": {
     "base_uri": "https://localhost:8080/",
     "height": 253
    },
    "colab_type": "code",
    "id": "Kr5_EdpD9dyh",
    "outputId": "81fd4a29-93fa-44f8-bf90-2f99981f761a"
   },
   "outputs": [
    {
     "data": {
      "text/html": [
       "<div>\n",
       "<style scoped>\n",
       "    .dataframe tbody tr th:only-of-type {\n",
       "        vertical-align: middle;\n",
       "    }\n",
       "\n",
       "    .dataframe tbody tr th {\n",
       "        vertical-align: top;\n",
       "    }\n",
       "\n",
       "    .dataframe thead th {\n",
       "        text-align: right;\n",
       "    }\n",
       "</style>\n",
       "<table border=\"1\" class=\"dataframe\">\n",
       "  <thead>\n",
       "    <tr style=\"text-align: right;\">\n",
       "      <th></th>\n",
       "      <th>filename</th>\n",
       "      <th>chroma_stft</th>\n",
       "      <th>rmse</th>\n",
       "      <th>spectral_centroid</th>\n",
       "      <th>spectral_bandwidth</th>\n",
       "      <th>rolloff</th>\n",
       "      <th>zero_crossing_rate</th>\n",
       "      <th>mfcc1</th>\n",
       "      <th>mfcc2</th>\n",
       "      <th>mfcc3</th>\n",
       "      <th>...</th>\n",
       "      <th>mfcc12</th>\n",
       "      <th>mfcc13</th>\n",
       "      <th>mfcc14</th>\n",
       "      <th>mfcc15</th>\n",
       "      <th>mfcc16</th>\n",
       "      <th>mfcc17</th>\n",
       "      <th>mfcc18</th>\n",
       "      <th>mfcc19</th>\n",
       "      <th>mfcc20</th>\n",
       "      <th>label</th>\n",
       "    </tr>\n",
       "  </thead>\n",
       "  <tbody>\n",
       "    <tr>\n",
       "      <th>0</th>\n",
       "      <td>blues.00016.au</td>\n",
       "      <td>0.304322</td>\n",
       "      <td>0.081461</td>\n",
       "      <td>1455.001672</td>\n",
       "      <td>1825.885415</td>\n",
       "      <td>3009.856800</td>\n",
       "      <td>0.061351</td>\n",
       "      <td>-233.763596</td>\n",
       "      <td>120.673508</td>\n",
       "      <td>-3.171085</td>\n",
       "      <td>...</td>\n",
       "      <td>2.537329</td>\n",
       "      <td>-1.240455</td>\n",
       "      <td>8.439245</td>\n",
       "      <td>-0.210692</td>\n",
       "      <td>-3.906118</td>\n",
       "      <td>-4.478783</td>\n",
       "      <td>-0.012436</td>\n",
       "      <td>1.293613</td>\n",
       "      <td>-2.084796</td>\n",
       "      <td>blues</td>\n",
       "    </tr>\n",
       "    <tr>\n",
       "      <th>1</th>\n",
       "      <td>blues.00031.au</td>\n",
       "      <td>0.253487</td>\n",
       "      <td>0.151571</td>\n",
       "      <td>1331.073970</td>\n",
       "      <td>1973.643437</td>\n",
       "      <td>2900.174130</td>\n",
       "      <td>0.042967</td>\n",
       "      <td>-221.802536</td>\n",
       "      <td>110.843071</td>\n",
       "      <td>18.620985</td>\n",
       "      <td>...</td>\n",
       "      <td>-13.037724</td>\n",
       "      <td>-12.652227</td>\n",
       "      <td>-1.821906</td>\n",
       "      <td>-7.260097</td>\n",
       "      <td>-6.660252</td>\n",
       "      <td>-14.682693</td>\n",
       "      <td>-11.719264</td>\n",
       "      <td>-11.025215</td>\n",
       "      <td>-13.387259</td>\n",
       "      <td>blues</td>\n",
       "    </tr>\n",
       "    <tr>\n",
       "      <th>2</th>\n",
       "      <td>blues.00034.au</td>\n",
       "      <td>0.262248</td>\n",
       "      <td>0.135939</td>\n",
       "      <td>1536.783076</td>\n",
       "      <td>2157.138100</td>\n",
       "      <td>3601.028225</td>\n",
       "      <td>0.045700</td>\n",
       "      <td>-217.211197</td>\n",
       "      <td>105.791168</td>\n",
       "      <td>15.618613</td>\n",
       "      <td>...</td>\n",
       "      <td>-10.695904</td>\n",
       "      <td>-14.224881</td>\n",
       "      <td>-5.156212</td>\n",
       "      <td>-3.471578</td>\n",
       "      <td>-6.184278</td>\n",
       "      <td>-15.325319</td>\n",
       "      <td>-6.845779</td>\n",
       "      <td>-9.828355</td>\n",
       "      <td>-13.941391</td>\n",
       "      <td>blues</td>\n",
       "    </tr>\n",
       "    <tr>\n",
       "      <th>3</th>\n",
       "      <td>blues.00017.au</td>\n",
       "      <td>0.302096</td>\n",
       "      <td>0.093282</td>\n",
       "      <td>1088.698166</td>\n",
       "      <td>1410.947954</td>\n",
       "      <td>2134.412094</td>\n",
       "      <td>0.048324</td>\n",
       "      <td>-245.756439</td>\n",
       "      <td>140.485916</td>\n",
       "      <td>-2.764771</td>\n",
       "      <td>...</td>\n",
       "      <td>-4.008893</td>\n",
       "      <td>1.608254</td>\n",
       "      <td>5.899378</td>\n",
       "      <td>-3.022785</td>\n",
       "      <td>-4.772989</td>\n",
       "      <td>-3.025787</td>\n",
       "      <td>-1.993938</td>\n",
       "      <td>-0.055459</td>\n",
       "      <td>-3.975350</td>\n",
       "      <td>blues</td>\n",
       "    </tr>\n",
       "    <tr>\n",
       "      <th>4</th>\n",
       "      <td>blues.00001.au</td>\n",
       "      <td>0.340983</td>\n",
       "      <td>0.095918</td>\n",
       "      <td>1529.835316</td>\n",
       "      <td>2038.617579</td>\n",
       "      <td>3548.820207</td>\n",
       "      <td>0.056044</td>\n",
       "      <td>-207.556793</td>\n",
       "      <td>124.006721</td>\n",
       "      <td>8.930560</td>\n",
       "      <td>...</td>\n",
       "      <td>5.376803</td>\n",
       "      <td>-2.239120</td>\n",
       "      <td>4.216963</td>\n",
       "      <td>-6.012273</td>\n",
       "      <td>0.936110</td>\n",
       "      <td>-0.716537</td>\n",
       "      <td>0.293876</td>\n",
       "      <td>-0.287431</td>\n",
       "      <td>0.531573</td>\n",
       "      <td>blues</td>\n",
       "    </tr>\n",
       "  </tbody>\n",
       "</table>\n",
       "<p>5 rows × 28 columns</p>\n",
       "</div>"
      ],
      "text/plain": [
       "         filename  chroma_stft      rmse  spectral_centroid  \\\n",
       "0  blues.00016.au     0.304322  0.081461        1455.001672   \n",
       "1  blues.00031.au     0.253487  0.151571        1331.073970   \n",
       "2  blues.00034.au     0.262248  0.135939        1536.783076   \n",
       "3  blues.00017.au     0.302096  0.093282        1088.698166   \n",
       "4  blues.00001.au     0.340983  0.095918        1529.835316   \n",
       "\n",
       "   spectral_bandwidth      rolloff  zero_crossing_rate       mfcc1  \\\n",
       "0         1825.885415  3009.856800            0.061351 -233.763596   \n",
       "1         1973.643437  2900.174130            0.042967 -221.802536   \n",
       "2         2157.138100  3601.028225            0.045700 -217.211197   \n",
       "3         1410.947954  2134.412094            0.048324 -245.756439   \n",
       "4         2038.617579  3548.820207            0.056044 -207.556793   \n",
       "\n",
       "        mfcc2      mfcc3  ...     mfcc12     mfcc13    mfcc14    mfcc15  \\\n",
       "0  120.673508  -3.171085  ...   2.537329  -1.240455  8.439245 -0.210692   \n",
       "1  110.843071  18.620985  ... -13.037724 -12.652227 -1.821906 -7.260097   \n",
       "2  105.791168  15.618613  ... -10.695904 -14.224881 -5.156212 -3.471578   \n",
       "3  140.485916  -2.764771  ...  -4.008893   1.608254  5.899378 -3.022785   \n",
       "4  124.006721   8.930560  ...   5.376803  -2.239120  4.216963 -6.012273   \n",
       "\n",
       "     mfcc16     mfcc17     mfcc18     mfcc19     mfcc20  label  \n",
       "0 -3.906118  -4.478783  -0.012436   1.293613  -2.084796  blues  \n",
       "1 -6.660252 -14.682693 -11.719264 -11.025215 -13.387259  blues  \n",
       "2 -6.184278 -15.325319  -6.845779  -9.828355 -13.941391  blues  \n",
       "3 -4.772989  -3.025787  -1.993938  -0.055459  -3.975350  blues  \n",
       "4  0.936110  -0.716537   0.293876  -0.287431   0.531573  blues  \n",
       "\n",
       "[5 rows x 28 columns]"
      ]
     },
     "execution_count": 12,
     "metadata": {},
     "output_type": "execute_result"
    }
   ],
   "source": [
    "data = pd.read_csv('data.csv')\n",
    "data.head()"
   ]
  },
  {
   "cell_type": "code",
   "execution_count": 13,
   "metadata": {
    "colab": {
     "base_uri": "https://localhost:8080/",
     "height": 34
    },
    "colab_type": "code",
    "id": "iHrDHCaR9gKR",
    "outputId": "7d32943a-1ad5-4a59-c13a-beebeb36e4c2"
   },
   "outputs": [
    {
     "data": {
      "text/plain": [
       "(1000, 28)"
      ]
     },
     "execution_count": 13,
     "metadata": {},
     "output_type": "execute_result"
    }
   ],
   "source": [
    "data.shape"
   ]
  },
  {
   "cell_type": "code",
   "execution_count": 14,
   "metadata": {
    "colab": {},
    "colab_type": "code",
    "id": "veD5BgX49hZa"
   },
   "outputs": [],
   "source": [
    "# Dropping unneccesary columns\n",
    "data = data.drop(['filename'],axis=1)"
   ]
  },
  {
   "cell_type": "markdown",
   "metadata": {
    "colab_type": "text",
    "id": "Nyr0aAAsGXjZ"
   },
   "source": [
    "## Encoding the Labels"
   ]
  },
  {
   "cell_type": "code",
   "execution_count": 15,
   "metadata": {
    "colab": {},
    "colab_type": "code",
    "id": "frI5HH4q-1HS"
   },
   "outputs": [],
   "source": [
    "genre_list = data.iloc[:, -1]\n",
    "encoder = LabelEncoder()\n",
    "y = encoder.fit_transform(genre_list)"
   ]
  },
  {
   "cell_type": "markdown",
   "metadata": {
    "colab_type": "text",
    "id": "_2n8a02zGfvP"
   },
   "source": [
    "## Scaling the Feature columns"
   ]
  },
  {
   "cell_type": "code",
   "execution_count": 16,
   "metadata": {
    "colab": {},
    "colab_type": "code",
    "id": "uqcqn-nyAofk"
   },
   "outputs": [],
   "source": [
    "scaler = StandardScaler()\n",
    "X = scaler.fit_transform(np.array(data.iloc[:, :-1], dtype = float))"
   ]
  },
  {
   "cell_type": "markdown",
   "metadata": {
    "colab_type": "text",
    "id": "e3VZvbwpGo9R"
   },
   "source": [
    "## Dividing data into training and Testing set"
   ]
  },
  {
   "cell_type": "code",
   "execution_count": 17,
   "metadata": {
    "colab": {},
    "colab_type": "code",
    "id": "F1GW3VvQA7Rj"
   },
   "outputs": [],
   "source": [
    "X_train, X_test, y_train, y_test = train_test_split(X, y, test_size=0.2)"
   ]
  },
  {
   "cell_type": "code",
   "execution_count": 18,
   "metadata": {
    "colab": {
     "base_uri": "https://localhost:8080/",
     "height": 34
    },
    "colab_type": "code",
    "id": "upuczQ-KBHJ5",
    "outputId": "1431a28b-e8b6-4db2-e505-7e149e37c0d7"
   },
   "outputs": [
    {
     "data": {
      "text/plain": [
       "800"
      ]
     },
     "execution_count": 18,
     "metadata": {},
     "output_type": "execute_result"
    }
   ],
   "source": [
    "len(y_train)"
   ]
  },
  {
   "cell_type": "code",
   "execution_count": 19,
   "metadata": {
    "colab": {
     "base_uri": "https://localhost:8080/",
     "height": 34
    },
    "colab_type": "code",
    "id": "LtoE_FqqBzM8",
    "outputId": "76555a2b-2030-48e1-b52d-d71b4ebae38e"
   },
   "outputs": [
    {
     "data": {
      "text/plain": [
       "200"
      ]
     },
     "execution_count": 19,
     "metadata": {},
     "output_type": "execute_result"
    }
   ],
   "source": [
    "len(y_test)"
   ]
  },
  {
   "cell_type": "code",
   "execution_count": 20,
   "metadata": {
    "colab": {
     "base_uri": "https://localhost:8080/",
     "height": 119
    },
    "colab_type": "code",
    "id": "ir9XaWgQB0lq",
    "outputId": "2ec90814-19d8-4f27-934a-1ce54406d4ea"
   },
   "outputs": [
    {
     "data": {
      "text/plain": [
       "array([ 0.47953418,  1.28382877,  1.41388388,  1.9524151 ,  1.812215  ,\n",
       "        0.36426616,  0.84728305, -1.1678041 ,  1.84740781, -1.16196611,\n",
       "        0.82213604, -0.32375636,  1.57938855, -0.47310859,  1.49824371,\n",
       "       -0.19793365,  1.21718368, -0.03269625,  1.44609211,  0.78833547,\n",
       "        1.83395958,  0.98792295,  1.18323175,  0.59745316,  0.24702757,\n",
       "       -0.59445535])"
      ]
     },
     "execution_count": 20,
     "metadata": {},
     "output_type": "execute_result"
    }
   ],
   "source": [
    "X_train[10]"
   ]
  },
  {
   "cell_type": "markdown",
   "metadata": {
    "colab_type": "text",
    "id": "Vp2yc5FWG04e"
   },
   "source": [
    "# Classification with Keras\n",
    "\n",
    "## Building our Network"
   ]
  },
  {
   "cell_type": "code",
   "execution_count": 21,
   "metadata": {
    "colab": {},
    "colab_type": "code",
    "id": "Qj3sc2uFEUMt"
   },
   "outputs": [],
   "source": [
    "from keras import models\n",
    "from keras import layers\n",
    "\n",
    "model = models.Sequential()\n",
    "model.add(layers.Dense(256, activation='relu', input_shape=(X_train.shape[1],)))\n",
    "model.add(layers.Dense(128, activation='relu'))\n",
    "model.add(layers.Dense(64, activation='relu'))\n",
    "model.add(layers.Dense(10, activation='softmax'))"
   ]
  },
  {
   "cell_type": "code",
   "execution_count": 22,
   "metadata": {
    "colab": {},
    "colab_type": "code",
    "id": "7yrsmpI6EjJ2"
   },
   "outputs": [],
   "source": [
    "model.compile(optimizer='adam',\n",
    "              loss='sparse_categorical_crossentropy',\n",
    "              metrics=['accuracy'])"
   ]
  },
  {
   "cell_type": "code",
   "execution_count": 23,
   "metadata": {
    "colab": {
     "base_uri": "https://localhost:8080/",
     "height": 697
    },
    "colab_type": "code",
    "id": "bP0hVm4aElS7",
    "outputId": "aacf234d-d0a9-4de4-91be-5fd45a33b279"
   },
   "outputs": [
    {
     "name": "stdout",
     "output_type": "stream",
     "text": [
      "Epoch 1/20\n",
      "7/7 [==============================] - 0s 2ms/step - loss: 2.2290 - accuracy: 0.2000\n",
      "Epoch 2/20\n",
      "7/7 [==============================] - 0s 4ms/step - loss: 1.8709 - accuracy: 0.3500\n",
      "Epoch 3/20\n",
      "7/7 [==============================] - 0s 3ms/step - loss: 1.6426 - accuracy: 0.3837\n",
      "Epoch 4/20\n",
      "7/7 [==============================] - 0s 3ms/step - loss: 1.4645 - accuracy: 0.4525\n",
      "Epoch 5/20\n",
      "7/7 [==============================] - 0s 4ms/step - loss: 1.3152 - accuracy: 0.5750\n",
      "Epoch 6/20\n",
      "7/7 [==============================] - 0s 4ms/step - loss: 1.1988 - accuracy: 0.6100\n",
      "Epoch 7/20\n",
      "7/7 [==============================] - 0s 4ms/step - loss: 1.1027 - accuracy: 0.6488\n",
      "Epoch 8/20\n",
      "7/7 [==============================] - 0s 4ms/step - loss: 1.0377 - accuracy: 0.6662\n",
      "Epoch 9/20\n",
      "7/7 [==============================] - 0s 3ms/step - loss: 0.9758 - accuracy: 0.6837\n",
      "Epoch 10/20\n",
      "7/7 [==============================] - 0s 4ms/step - loss: 0.9201 - accuracy: 0.7188\n",
      "Epoch 11/20\n",
      "7/7 [==============================] - 0s 4ms/step - loss: 0.8706 - accuracy: 0.7250\n",
      "Epoch 12/20\n",
      "7/7 [==============================] - 0s 4ms/step - loss: 0.8332 - accuracy: 0.7287\n",
      "Epoch 13/20\n",
      "7/7 [==============================] - 0s 4ms/step - loss: 0.7856 - accuracy: 0.7538\n",
      "Epoch 14/20\n",
      "7/7 [==============================] - 0s 5ms/step - loss: 0.7546 - accuracy: 0.7588\n",
      "Epoch 15/20\n",
      "7/7 [==============================] - 0s 3ms/step - loss: 0.7166 - accuracy: 0.7763\n",
      "Epoch 16/20\n",
      "7/7 [==============================] - 0s 4ms/step - loss: 0.6825 - accuracy: 0.7837\n",
      "Epoch 17/20\n",
      "7/7 [==============================] - 0s 4ms/step - loss: 0.6564 - accuracy: 0.7937\n",
      "Epoch 18/20\n",
      "7/7 [==============================] - 0s 3ms/step - loss: 0.6231 - accuracy: 0.8000\n",
      "Epoch 19/20\n",
      "7/7 [==============================] - 0s 4ms/step - loss: 0.5953 - accuracy: 0.8163\n",
      "Epoch 20/20\n",
      "7/7 [==============================] - 0s 3ms/step - loss: 0.5596 - accuracy: 0.8338\n"
     ]
    }
   ],
   "source": [
    "history = model.fit(X_train,\n",
    "                    y_train,\n",
    "                    epochs=20,\n",
    "                    batch_size=128)"
   ]
  },
  {
   "cell_type": "code",
   "execution_count": 24,
   "metadata": {
    "colab": {
     "base_uri": "https://localhost:8080/",
     "height": 34
    },
    "colab_type": "code",
    "id": "0m1J0_wUFK4C",
    "outputId": "ffd3bf36-29ea-437a-987c-9aa600b9dae6"
   },
   "outputs": [
    {
     "name": "stdout",
     "output_type": "stream",
     "text": [
      "7/7 [==============================] - 0s 2ms/step - loss: 0.9815 - accuracy: 0.6450\n"
     ]
    }
   ],
   "source": [
    "test_loss, test_acc = model.evaluate(X_test,y_test)"
   ]
  },
  {
   "cell_type": "code",
   "execution_count": 25,
   "metadata": {
    "colab": {
     "base_uri": "https://localhost:8080/",
     "height": 34
    },
    "colab_type": "code",
    "id": "f6HrjXeUF0Ko",
    "outputId": "ea282dbd-6f9e-48c7-de2d-dc9afde8949e"
   },
   "outputs": [
    {
     "name": "stdout",
     "output_type": "stream",
     "text": [
      "test_acc:  0.6449999809265137\n"
     ]
    }
   ],
   "source": [
    "print('test_acc: ',test_acc)"
   ]
  },
  {
   "cell_type": "markdown",
   "metadata": {
    "colab_type": "text",
    "id": "3yQmP_f5Kq0w"
   },
   "source": [
    "Tes accuracy is less than training dataa accuracy. This hints at Overfitting"
   ]
  },
  {
   "cell_type": "markdown",
   "metadata": {
    "colab_type": "text",
    "id": "-U2qzRJoHV9O"
   },
   "source": [
    "## Validating our approach\n",
    "Let's set apart 200 samples in our training data to use as a validation set:"
   ]
  },
  {
   "cell_type": "code",
   "execution_count": 26,
   "metadata": {
    "colab": {},
    "colab_type": "code",
    "id": "xJNbvYZoF7ZT"
   },
   "outputs": [],
   "source": [
    "x_val = X_train[:200]\n",
    "partial_x_train = X_train[200:]\n",
    "\n",
    "y_val = y_train[:200]\n",
    "partial_y_train = y_train[200:]"
   ]
  },
  {
   "cell_type": "code",
   "execution_count": 58,
   "metadata": {
    "colab": {
     "base_uri": "https://localhost:8080/",
     "height": 1071
    },
    "colab_type": "code",
    "id": "Dp3G4P3aP4k2",
    "outputId": "25e1a389-1ac2-425b-bd5f-05736b6e9b96"
   },
   "outputs": [
    {
     "name": "stdout",
     "output_type": "stream",
     "text": [
      "Epoch 1/100\n",
      "2/2 [==============================] - 0s 78ms/step - loss: 2.3354 - accuracy: 0.0900 - val_loss: 2.2296 - val_accuracy: 0.2150\n",
      "Epoch 2/100\n",
      "2/2 [==============================] - 0s 24ms/step - loss: 2.2512 - accuracy: 0.1550 - val_loss: 2.1743 - val_accuracy: 0.2600\n",
      "Epoch 3/100\n",
      "2/2 [==============================] - 0s 21ms/step - loss: 2.1894 - accuracy: 0.1950 - val_loss: 2.1088 - val_accuracy: 0.2900\n",
      "Epoch 4/100\n",
      "2/2 [==============================] - 0s 23ms/step - loss: 2.1571 - accuracy: 0.1850 - val_loss: 2.0362 - val_accuracy: 0.3050\n",
      "Epoch 5/100\n",
      "2/2 [==============================] - 0s 20ms/step - loss: 2.0941 - accuracy: 0.2100 - val_loss: 1.9629 - val_accuracy: 0.3350\n",
      "Epoch 6/100\n",
      "2/2 [==============================] - 0s 19ms/step - loss: 2.0342 - accuracy: 0.2550 - val_loss: 1.8900 - val_accuracy: 0.3750\n",
      "Epoch 7/100\n",
      "2/2 [==============================] - 0s 28ms/step - loss: 1.9859 - accuracy: 0.2650 - val_loss: 1.8197 - val_accuracy: 0.3850\n",
      "Epoch 8/100\n",
      "2/2 [==============================] - 0s 24ms/step - loss: 1.9340 - accuracy: 0.3067 - val_loss: 1.7531 - val_accuracy: 0.3850\n",
      "Epoch 9/100\n",
      "2/2 [==============================] - 0s 28ms/step - loss: 1.8818 - accuracy: 0.3000 - val_loss: 1.6925 - val_accuracy: 0.3800\n",
      "Epoch 10/100\n",
      "2/2 [==============================] - 0s 28ms/step - loss: 1.7666 - accuracy: 0.3667 - val_loss: 1.6404 - val_accuracy: 0.4200\n",
      "Epoch 11/100\n",
      "2/2 [==============================] - 0s 22ms/step - loss: 1.7785 - accuracy: 0.3617 - val_loss: 1.5960 - val_accuracy: 0.4600\n",
      "Epoch 12/100\n",
      "2/2 [==============================] - 0s 21ms/step - loss: 1.7326 - accuracy: 0.3883 - val_loss: 1.5534 - val_accuracy: 0.4450\n",
      "Epoch 13/100\n",
      "2/2 [==============================] - 0s 27ms/step - loss: 1.7130 - accuracy: 0.3867 - val_loss: 1.5135 - val_accuracy: 0.4750\n",
      "Epoch 14/100\n",
      "2/2 [==============================] - 0s 25ms/step - loss: 1.6655 - accuracy: 0.3900 - val_loss: 1.4775 - val_accuracy: 0.4950\n",
      "Epoch 15/100\n",
      "2/2 [==============================] - 0s 28ms/step - loss: 1.5983 - accuracy: 0.4267 - val_loss: 1.4426 - val_accuracy: 0.4800\n",
      "Epoch 16/100\n",
      "2/2 [==============================] - 0s 23ms/step - loss: 1.5706 - accuracy: 0.4283 - val_loss: 1.4090 - val_accuracy: 0.4800\n",
      "Epoch 17/100\n",
      "2/2 [==============================] - 0s 30ms/step - loss: 1.5475 - accuracy: 0.4200 - val_loss: 1.3748 - val_accuracy: 0.4900\n",
      "Epoch 18/100\n",
      "2/2 [==============================] - 0s 16ms/step - loss: 1.4959 - accuracy: 0.4750 - val_loss: 1.3443 - val_accuracy: 0.5250\n",
      "Epoch 19/100\n",
      "2/2 [==============================] - 0s 21ms/step - loss: 1.5215 - accuracy: 0.4433 - val_loss: 1.3209 - val_accuracy: 0.5400\n",
      "Epoch 20/100\n",
      "2/2 [==============================] - 0s 22ms/step - loss: 1.4742 - accuracy: 0.4583 - val_loss: 1.2935 - val_accuracy: 0.5500\n",
      "Epoch 21/100\n",
      "2/2 [==============================] - 0s 31ms/step - loss: 1.4006 - accuracy: 0.5017 - val_loss: 1.2645 - val_accuracy: 0.5750\n",
      "Epoch 22/100\n",
      "2/2 [==============================] - 0s 29ms/step - loss: 1.3849 - accuracy: 0.5033 - val_loss: 1.2412 - val_accuracy: 0.5550\n",
      "Epoch 23/100\n",
      "2/2 [==============================] - 0s 21ms/step - loss: 1.4034 - accuracy: 0.5017 - val_loss: 1.2194 - val_accuracy: 0.5700\n",
      "Epoch 24/100\n",
      "2/2 [==============================] - 0s 24ms/step - loss: 1.3721 - accuracy: 0.5217 - val_loss: 1.1988 - val_accuracy: 0.5750\n",
      "Epoch 25/100\n",
      "2/2 [==============================] - 0s 26ms/step - loss: 1.3639 - accuracy: 0.5217 - val_loss: 1.1829 - val_accuracy: 0.5950\n",
      "Epoch 26/100\n",
      "2/2 [==============================] - 0s 19ms/step - loss: 1.2485 - accuracy: 0.5583 - val_loss: 1.1702 - val_accuracy: 0.6100\n",
      "Epoch 27/100\n",
      "2/2 [==============================] - 0s 22ms/step - loss: 1.2772 - accuracy: 0.5567 - val_loss: 1.1634 - val_accuracy: 0.6000\n",
      "Epoch 28/100\n",
      "2/2 [==============================] - 0s 20ms/step - loss: 1.2246 - accuracy: 0.5667 - val_loss: 1.1619 - val_accuracy: 0.6150\n",
      "Epoch 29/100\n",
      "2/2 [==============================] - 0s 25ms/step - loss: 1.2300 - accuracy: 0.5583 - val_loss: 1.1651 - val_accuracy: 0.6100\n",
      "Epoch 30/100\n",
      "2/2 [==============================] - 0s 26ms/step - loss: 1.2421 - accuracy: 0.5433 - val_loss: 1.1640 - val_accuracy: 0.6100\n",
      "Epoch 31/100\n",
      "2/2 [==============================] - 0s 31ms/step - loss: 1.1816 - accuracy: 0.5783 - val_loss: 1.1528 - val_accuracy: 0.6300\n",
      "Epoch 32/100\n",
      "2/2 [==============================] - 0s 29ms/step - loss: 1.1408 - accuracy: 0.6233 - val_loss: 1.1422 - val_accuracy: 0.6250\n",
      "Epoch 33/100\n",
      "2/2 [==============================] - 0s 21ms/step - loss: 1.1568 - accuracy: 0.6133 - val_loss: 1.1398 - val_accuracy: 0.6250\n",
      "Epoch 34/100\n",
      "2/2 [==============================] - 0s 21ms/step - loss: 1.1058 - accuracy: 0.6400 - val_loss: 1.1381 - val_accuracy: 0.6150\n",
      "Epoch 35/100\n",
      "2/2 [==============================] - 0s 29ms/step - loss: 1.0719 - accuracy: 0.6217 - val_loss: 1.1298 - val_accuracy: 0.6250\n",
      "Epoch 36/100\n",
      "2/2 [==============================] - 0s 33ms/step - loss: 1.1061 - accuracy: 0.6333 - val_loss: 1.1265 - val_accuracy: 0.6250\n",
      "Epoch 37/100\n",
      "2/2 [==============================] - 0s 23ms/step - loss: 1.0859 - accuracy: 0.6317 - val_loss: 1.1331 - val_accuracy: 0.6300\n",
      "Epoch 38/100\n",
      "2/2 [==============================] - 0s 18ms/step - loss: 1.0190 - accuracy: 0.6617 - val_loss: 1.1340 - val_accuracy: 0.6350\n",
      "Epoch 39/100\n",
      "2/2 [==============================] - 0s 16ms/step - loss: 1.0471 - accuracy: 0.6350 - val_loss: 1.1337 - val_accuracy: 0.6450\n",
      "Epoch 40/100\n",
      "2/2 [==============================] - 0s 19ms/step - loss: 1.0237 - accuracy: 0.6700 - val_loss: 1.1394 - val_accuracy: 0.6350\n",
      "Epoch 41/100\n",
      "2/2 [==============================] - 0s 15ms/step - loss: 1.0211 - accuracy: 0.6283 - val_loss: 1.1383 - val_accuracy: 0.6300\n",
      "Epoch 42/100\n",
      "2/2 [==============================] - 0s 18ms/step - loss: 0.9881 - accuracy: 0.6617 - val_loss: 1.1312 - val_accuracy: 0.6350\n",
      "Epoch 43/100\n",
      "2/2 [==============================] - 0s 21ms/step - loss: 0.9593 - accuracy: 0.6867 - val_loss: 1.1207 - val_accuracy: 0.6400\n",
      "Epoch 44/100\n",
      "2/2 [==============================] - 0s 16ms/step - loss: 0.9662 - accuracy: 0.6667 - val_loss: 1.1166 - val_accuracy: 0.6450\n",
      "Epoch 45/100\n",
      "2/2 [==============================] - 0s 20ms/step - loss: 0.9773 - accuracy: 0.6650 - val_loss: 1.1188 - val_accuracy: 0.6400\n",
      "Epoch 46/100\n",
      "2/2 [==============================] - 0s 20ms/step - loss: 0.9043 - accuracy: 0.7050 - val_loss: 1.1176 - val_accuracy: 0.6550\n",
      "Epoch 47/100\n",
      "2/2 [==============================] - 0s 20ms/step - loss: 0.9269 - accuracy: 0.6767 - val_loss: 1.1197 - val_accuracy: 0.6550\n",
      "Epoch 48/100\n",
      "2/2 [==============================] - 0s 29ms/step - loss: 0.8996 - accuracy: 0.6917 - val_loss: 1.1265 - val_accuracy: 0.6500\n",
      "Epoch 49/100\n",
      "2/2 [==============================] - 0s 26ms/step - loss: 0.8778 - accuracy: 0.7017 - val_loss: 1.1261 - val_accuracy: 0.6450\n",
      "Epoch 50/100\n",
      "2/2 [==============================] - 0s 25ms/step - loss: 0.8227 - accuracy: 0.7333 - val_loss: 1.1319 - val_accuracy: 0.6350\n",
      "Epoch 51/100\n",
      "2/2 [==============================] - 0s 26ms/step - loss: 0.8633 - accuracy: 0.7250 - val_loss: 1.1484 - val_accuracy: 0.6350\n",
      "Epoch 52/100\n",
      "2/2 [==============================] - 0s 19ms/step - loss: 0.8998 - accuracy: 0.6900 - val_loss: 1.1599 - val_accuracy: 0.6500\n",
      "Epoch 53/100\n",
      "2/2 [==============================] - 0s 22ms/step - loss: 0.8375 - accuracy: 0.7283 - val_loss: 1.1761 - val_accuracy: 0.6300\n",
      "Epoch 54/100\n",
      "2/2 [==============================] - 0s 16ms/step - loss: 0.8313 - accuracy: 0.7367 - val_loss: 1.1848 - val_accuracy: 0.6400\n",
      "Epoch 55/100\n",
      "2/2 [==============================] - 0s 17ms/step - loss: 0.8513 - accuracy: 0.7333 - val_loss: 1.1616 - val_accuracy: 0.6300\n",
      "Epoch 56/100\n",
      "2/2 [==============================] - 0s 20ms/step - loss: 0.7817 - accuracy: 0.7383 - val_loss: 1.1405 - val_accuracy: 0.6450\n",
      "Epoch 57/100\n",
      "2/2 [==============================] - 0s 21ms/step - loss: 0.8035 - accuracy: 0.7467 - val_loss: 1.1326 - val_accuracy: 0.6450\n",
      "Epoch 58/100\n",
      "2/2 [==============================] - 0s 15ms/step - loss: 0.7462 - accuracy: 0.7400 - val_loss: 1.1283 - val_accuracy: 0.6600\n",
      "Epoch 59/100\n"
     ]
    },
    {
     "name": "stdout",
     "output_type": "stream",
     "text": [
      "2/2 [==============================] - 0s 18ms/step - loss: 0.7545 - accuracy: 0.7483 - val_loss: 1.1290 - val_accuracy: 0.6600\n",
      "Epoch 60/100\n",
      "2/2 [==============================] - 0s 17ms/step - loss: 0.7549 - accuracy: 0.7617 - val_loss: 1.1320 - val_accuracy: 0.6600\n",
      "Epoch 61/100\n",
      "2/2 [==============================] - 0s 14ms/step - loss: 0.7468 - accuracy: 0.7550 - val_loss: 1.1326 - val_accuracy: 0.6600\n",
      "Epoch 62/100\n",
      "2/2 [==============================] - 0s 14ms/step - loss: 0.7227 - accuracy: 0.7550 - val_loss: 1.1365 - val_accuracy: 0.6650\n",
      "Epoch 63/100\n",
      "2/2 [==============================] - 0s 16ms/step - loss: 0.7257 - accuracy: 0.7450 - val_loss: 1.1487 - val_accuracy: 0.6650\n",
      "Epoch 64/100\n",
      "2/2 [==============================] - 0s 17ms/step - loss: 0.7031 - accuracy: 0.7683 - val_loss: 1.1550 - val_accuracy: 0.6400\n",
      "Epoch 65/100\n",
      "2/2 [==============================] - 0s 22ms/step - loss: 0.6992 - accuracy: 0.7650 - val_loss: 1.1466 - val_accuracy: 0.6500\n",
      "Epoch 66/100\n",
      "2/2 [==============================] - 0s 17ms/step - loss: 0.6797 - accuracy: 0.7700 - val_loss: 1.1535 - val_accuracy: 0.6450\n",
      "Epoch 67/100\n",
      "2/2 [==============================] - 0s 16ms/step - loss: 0.6735 - accuracy: 0.7683 - val_loss: 1.1619 - val_accuracy: 0.6250\n",
      "Epoch 68/100\n",
      "2/2 [==============================] - 0s 22ms/step - loss: 0.6193 - accuracy: 0.7833 - val_loss: 1.1649 - val_accuracy: 0.6450\n",
      "Epoch 69/100\n",
      "2/2 [==============================] - 0s 26ms/step - loss: 0.6283 - accuracy: 0.7967 - val_loss: 1.1759 - val_accuracy: 0.6300\n",
      "Epoch 70/100\n",
      "2/2 [==============================] - 0s 25ms/step - loss: 0.6508 - accuracy: 0.7683 - val_loss: 1.1942 - val_accuracy: 0.6400\n",
      "Epoch 71/100\n",
      "2/2 [==============================] - 0s 18ms/step - loss: 0.6386 - accuracy: 0.7867 - val_loss: 1.2006 - val_accuracy: 0.6300\n",
      "Epoch 72/100\n",
      "2/2 [==============================] - 0s 18ms/step - loss: 0.6362 - accuracy: 0.7850 - val_loss: 1.1973 - val_accuracy: 0.6450\n",
      "Epoch 73/100\n",
      "2/2 [==============================] - 0s 17ms/step - loss: 0.6192 - accuracy: 0.7967 - val_loss: 1.2049 - val_accuracy: 0.6500\n",
      "Epoch 74/100\n",
      "2/2 [==============================] - 0s 17ms/step - loss: 0.6391 - accuracy: 0.7883 - val_loss: 1.2044 - val_accuracy: 0.6200\n",
      "Epoch 75/100\n",
      "2/2 [==============================] - 0s 17ms/step - loss: 0.5749 - accuracy: 0.8233 - val_loss: 1.1904 - val_accuracy: 0.6550\n",
      "Epoch 76/100\n",
      "2/2 [==============================] - 0s 16ms/step - loss: 0.6077 - accuracy: 0.7983 - val_loss: 1.1893 - val_accuracy: 0.6550\n",
      "Epoch 77/100\n",
      "2/2 [==============================] - 0s 16ms/step - loss: 0.6046 - accuracy: 0.7983 - val_loss: 1.1967 - val_accuracy: 0.6550\n",
      "Epoch 78/100\n",
      "2/2 [==============================] - 0s 17ms/step - loss: 0.5625 - accuracy: 0.8017 - val_loss: 1.2055 - val_accuracy: 0.6600\n",
      "Epoch 79/100\n",
      "2/2 [==============================] - 0s 17ms/step - loss: 0.5453 - accuracy: 0.8267 - val_loss: 1.2121 - val_accuracy: 0.6550\n",
      "Epoch 80/100\n",
      "2/2 [==============================] - 0s 15ms/step - loss: 0.5216 - accuracy: 0.8217 - val_loss: 1.2094 - val_accuracy: 0.6600\n",
      "Epoch 81/100\n",
      "2/2 [==============================] - 0s 20ms/step - loss: 0.5332 - accuracy: 0.8117 - val_loss: 1.2168 - val_accuracy: 0.6750\n",
      "Epoch 82/100\n",
      "2/2 [==============================] - 0s 19ms/step - loss: 0.5238 - accuracy: 0.8317 - val_loss: 1.2345 - val_accuracy: 0.6550\n",
      "Epoch 83/100\n",
      "2/2 [==============================] - 0s 20ms/step - loss: 0.5108 - accuracy: 0.8233 - val_loss: 1.2407 - val_accuracy: 0.6450\n",
      "Epoch 84/100\n",
      "2/2 [==============================] - 0s 18ms/step - loss: 0.5170 - accuracy: 0.8350 - val_loss: 1.2323 - val_accuracy: 0.6450\n",
      "Epoch 85/100\n",
      "2/2 [==============================] - 0s 17ms/step - loss: 0.4973 - accuracy: 0.8417 - val_loss: 1.2252 - val_accuracy: 0.6600\n",
      "Epoch 86/100\n",
      "2/2 [==============================] - 0s 18ms/step - loss: 0.4621 - accuracy: 0.8467 - val_loss: 1.2272 - val_accuracy: 0.6700\n",
      "Epoch 87/100\n",
      "2/2 [==============================] - 0s 15ms/step - loss: 0.5022 - accuracy: 0.8350 - val_loss: 1.2367 - val_accuracy: 0.6550\n",
      "Epoch 88/100\n",
      "2/2 [==============================] - 0s 16ms/step - loss: 0.4702 - accuracy: 0.8417 - val_loss: 1.2417 - val_accuracy: 0.6450\n",
      "Epoch 89/100\n",
      "2/2 [==============================] - 0s 16ms/step - loss: 0.4857 - accuracy: 0.8417 - val_loss: 1.2180 - val_accuracy: 0.6600\n",
      "Epoch 90/100\n",
      "2/2 [==============================] - 0s 16ms/step - loss: 0.4326 - accuracy: 0.8567 - val_loss: 1.1977 - val_accuracy: 0.6750\n",
      "Epoch 91/100\n",
      "2/2 [==============================] - 0s 19ms/step - loss: 0.4639 - accuracy: 0.8533 - val_loss: 1.1867 - val_accuracy: 0.6900\n",
      "Epoch 92/100\n",
      "2/2 [==============================] - 0s 18ms/step - loss: 0.4831 - accuracy: 0.8483 - val_loss: 1.1715 - val_accuracy: 0.6850\n",
      "Epoch 93/100\n",
      "2/2 [==============================] - 0s 15ms/step - loss: 0.4352 - accuracy: 0.8700 - val_loss: 1.1885 - val_accuracy: 0.7050\n",
      "Epoch 94/100\n",
      "2/2 [==============================] - 0s 18ms/step - loss: 0.4571 - accuracy: 0.8633 - val_loss: 1.2355 - val_accuracy: 0.6800\n",
      "Epoch 95/100\n",
      "2/2 [==============================] - 0s 17ms/step - loss: 0.4379 - accuracy: 0.8467 - val_loss: 1.2880 - val_accuracy: 0.6550\n",
      "Epoch 96/100\n",
      "2/2 [==============================] - 0s 18ms/step - loss: 0.4207 - accuracy: 0.8533 - val_loss: 1.3136 - val_accuracy: 0.6300\n",
      "Epoch 97/100\n",
      "2/2 [==============================] - 0s 18ms/step - loss: 0.4237 - accuracy: 0.8467 - val_loss: 1.3004 - val_accuracy: 0.6600\n",
      "Epoch 98/100\n",
      "2/2 [==============================] - 0s 15ms/step - loss: 0.3789 - accuracy: 0.8950 - val_loss: 1.2847 - val_accuracy: 0.6700\n",
      "Epoch 99/100\n",
      "2/2 [==============================] - 0s 17ms/step - loss: 0.3958 - accuracy: 0.8667 - val_loss: 1.2751 - val_accuracy: 0.6800\n",
      "Epoch 100/100\n",
      "2/2 [==============================] - 0s 18ms/step - loss: 0.4101 - accuracy: 0.8700 - val_loss: 1.2713 - val_accuracy: 0.6900\n",
      "7/7 [==============================] - 0s 1ms/step - loss: 1.0918 - accuracy: 0.6600\n"
     ]
    }
   ],
   "source": [
    "model = models.Sequential()\n",
    "model.add(layers.Dense(512, activation='relu', input_shape=(X_train.shape[1],)))\n",
    "model.add(layers.Dense(256, activation='relu'))\n",
    "model.add(layers.Dropout(0.5))\n",
    "model.add(layers.Dense(128, activation='relu'))\n",
    "model.add(layers.Dropout(0.5))\n",
    "model.add(layers.Dense(64, activation='relu'))\n",
    "model.add(layers.Dense(10, activation='softmax'))\n",
    "\n",
    "model.compile(optimizer='adam',\n",
    "              loss='sparse_categorical_crossentropy',\n",
    "              metrics=['accuracy'])\n",
    "\n",
    "model.fit(partial_x_train,\n",
    "          partial_y_train,\n",
    "          epochs=100,\n",
    "          batch_size=512,\n",
    "          validation_data=(x_val, y_val))\n",
    "results = model.evaluate(X_test, y_test)"
   ]
  },
  {
   "cell_type": "code",
   "execution_count": 48,
   "metadata": {
    "colab": {
     "base_uri": "https://localhost:8080/",
     "height": 34
    },
    "colab_type": "code",
    "id": "Mvi9it1SI4aR",
    "outputId": "98b01ef2-3935-442b-82d6-45f56e036d39"
   },
   "outputs": [
    {
     "data": {
      "text/plain": [
       "[1.1452711820602417, 0.6650000214576721]"
      ]
     },
     "execution_count": 48,
     "metadata": {},
     "output_type": "execute_result"
    }
   ],
   "source": [
    "results"
   ]
  },
  {
   "cell_type": "code",
   "execution_count": 59,
   "metadata": {},
   "outputs": [
    {
     "name": "stdout",
     "output_type": "stream",
     "text": [
      "WARNING:tensorflow:From /home/lapltop/Рабочий стол/NSU_DP/venv/lib/python3.8/site-packages/tensorflow/python/training/tracking/tracking.py:111: Model.state_updates (from tensorflow.python.keras.engine.training) is deprecated and will be removed in a future version.\n",
      "Instructions for updating:\n",
      "This property should not be used in TensorFlow 2.0, as updates are applied automatically.\n",
      "WARNING:tensorflow:From /home/lapltop/Рабочий стол/NSU_DP/venv/lib/python3.8/site-packages/tensorflow/python/training/tracking/tracking.py:111: Layer.updates (from tensorflow.python.keras.engine.base_layer) is deprecated and will be removed in a future version.\n",
      "Instructions for updating:\n",
      "This property should not be used in TensorFlow 2.0, as updates are applied automatically.\n",
      "INFO:tensorflow:Assets written to: cls_genre/assets\n"
     ]
    }
   ],
   "source": [
    "model.save('cls_genre')"
   ]
  },
  {
   "cell_type": "code",
   "execution_count": 60,
   "metadata": {
    "colab": {},
    "colab_type": "code",
    "id": "Utgt1bXfJVRN"
   },
   "outputs": [],
   "source": []
  },
  {
   "cell_type": "code",
   "execution_count": null,
   "metadata": {},
   "outputs": [],
   "source": []
  }
 ],
 "metadata": {
  "accelerator": "TPU",
  "colab": {
   "include_colab_link": true,
   "name": "Untitled9.ipynb",
   "provenance": [],
   "version": "0.3.2"
  },
  "kernelspec": {
   "display_name": "Python 3",
   "language": "python",
   "name": "python3"
  },
  "language_info": {
   "codemirror_mode": {
    "name": "ipython",
    "version": 3
   },
   "file_extension": ".py",
   "mimetype": "text/x-python",
   "name": "python",
   "nbconvert_exporter": "python",
   "pygments_lexer": "ipython3",
   "version": "3.8.5"
  }
 },
 "nbformat": 4,
 "nbformat_minor": 1
}
